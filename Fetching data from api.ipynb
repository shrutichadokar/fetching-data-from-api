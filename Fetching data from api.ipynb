{
 "cells": [
  {
   "cell_type": "code",
   "execution_count": 1,
   "id": "b22cff5b-b44f-4aa8-a3c8-c6863ed7cfc3",
   "metadata": {},
   "outputs": [],
   "source": [
    "import pandas as pd\n",
    "import requests"
   ]
  },
  {
   "cell_type": "code",
   "execution_count": 2,
   "id": "0a5e526a-2dab-4250-af47-d4459eeb6bb0",
   "metadata": {},
   "outputs": [],
   "source": [
    "response=requests.get('https://api.themoviedb.org/3/movie/top_rated?api_key=a99779c704ac10830a6130e61a18ab2b&language=en-US&page=1')"
   ]
  },
  {
   "cell_type": "code",
   "execution_count": 3,
   "id": "78bcd112-9c1b-4e32-b6a7-002c0d82fdca",
   "metadata": {},
   "outputs": [],
   "source": [
    "t_df=pd.DataFrame(response.json()['results'])[['id','title','overview','release_date','popularity','vote_average','vote_count']]"
   ]
  },
  {
   "cell_type": "code",
   "execution_count": 4,
   "id": "4902381f-ecf2-4fc4-a754-f45e7771c7ca",
   "metadata": {},
   "outputs": [
    {
     "data": {
      "text/html": [
       "<div>\n",
       "<style scoped>\n",
       "    .dataframe tbody tr th:only-of-type {\n",
       "        vertical-align: middle;\n",
       "    }\n",
       "\n",
       "    .dataframe tbody tr th {\n",
       "        vertical-align: top;\n",
       "    }\n",
       "\n",
       "    .dataframe thead th {\n",
       "        text-align: right;\n",
       "    }\n",
       "</style>\n",
       "<table border=\"1\" class=\"dataframe\">\n",
       "  <thead>\n",
       "    <tr style=\"text-align: right;\">\n",
       "      <th></th>\n",
       "      <th>id</th>\n",
       "      <th>title</th>\n",
       "      <th>overview</th>\n",
       "      <th>release_date</th>\n",
       "      <th>popularity</th>\n",
       "      <th>vote_average</th>\n",
       "      <th>vote_count</th>\n",
       "    </tr>\n",
       "  </thead>\n",
       "  <tbody>\n",
       "    <tr>\n",
       "      <th>0</th>\n",
       "      <td>278</td>\n",
       "      <td>The Shawshank Redemption</td>\n",
       "      <td>Imprisoned in the 1940s for the double murder ...</td>\n",
       "      <td>1994-09-23</td>\n",
       "      <td>161.739</td>\n",
       "      <td>8.705</td>\n",
       "      <td>26407</td>\n",
       "    </tr>\n",
       "    <tr>\n",
       "      <th>1</th>\n",
       "      <td>238</td>\n",
       "      <td>The Godfather</td>\n",
       "      <td>Spanning the years 1945 to 1955, a chronicle o...</td>\n",
       "      <td>1972-03-14</td>\n",
       "      <td>157.122</td>\n",
       "      <td>8.693</td>\n",
       "      <td>20031</td>\n",
       "    </tr>\n",
       "    <tr>\n",
       "      <th>2</th>\n",
       "      <td>240</td>\n",
       "      <td>The Godfather Part II</td>\n",
       "      <td>In the continuing saga of the Corleone crime f...</td>\n",
       "      <td>1974-12-20</td>\n",
       "      <td>121.223</td>\n",
       "      <td>8.576</td>\n",
       "      <td>12092</td>\n",
       "    </tr>\n",
       "    <tr>\n",
       "      <th>3</th>\n",
       "      <td>424</td>\n",
       "      <td>Schindler's List</td>\n",
       "      <td>The true story of how businessman Oskar Schind...</td>\n",
       "      <td>1993-12-15</td>\n",
       "      <td>93.276</td>\n",
       "      <td>8.567</td>\n",
       "      <td>15497</td>\n",
       "    </tr>\n",
       "    <tr>\n",
       "      <th>4</th>\n",
       "      <td>389</td>\n",
       "      <td>12 Angry Men</td>\n",
       "      <td>The defense and the prosecution have rested an...</td>\n",
       "      <td>1957-04-10</td>\n",
       "      <td>75.047</td>\n",
       "      <td>8.544</td>\n",
       "      <td>8340</td>\n",
       "    </tr>\n",
       "  </tbody>\n",
       "</table>\n",
       "</div>"
      ],
      "text/plain": [
       "    id                     title  \\\n",
       "0  278  The Shawshank Redemption   \n",
       "1  238             The Godfather   \n",
       "2  240     The Godfather Part II   \n",
       "3  424          Schindler's List   \n",
       "4  389              12 Angry Men   \n",
       "\n",
       "                                            overview release_date  popularity  \\\n",
       "0  Imprisoned in the 1940s for the double murder ...   1994-09-23     161.739   \n",
       "1  Spanning the years 1945 to 1955, a chronicle o...   1972-03-14     157.122   \n",
       "2  In the continuing saga of the Corleone crime f...   1974-12-20     121.223   \n",
       "3  The true story of how businessman Oskar Schind...   1993-12-15      93.276   \n",
       "4  The defense and the prosecution have rested an...   1957-04-10      75.047   \n",
       "\n",
       "   vote_average  vote_count  \n",
       "0         8.705       26407  \n",
       "1         8.693       20031  \n",
       "2         8.576       12092  \n",
       "3         8.567       15497  \n",
       "4         8.544        8340  "
      ]
     },
     "execution_count": 4,
     "metadata": {},
     "output_type": "execute_result"
    }
   ],
   "source": [
    "t_df.head()"
   ]
  },
  {
   "cell_type": "code",
   "execution_count": 5,
   "id": "22d9e215-20ee-42c0-843c-0e1ae105ae81",
   "metadata": {},
   "outputs": [],
   "source": [
    "df=pd.DataFrame()"
   ]
  },
  {
   "cell_type": "code",
   "execution_count": 6,
   "id": "53e93091-1fe6-49d5-a4f9-b6598103c753",
   "metadata": {},
   "outputs": [
    {
     "data": {
      "text/html": [
       "<div>\n",
       "<style scoped>\n",
       "    .dataframe tbody tr th:only-of-type {\n",
       "        vertical-align: middle;\n",
       "    }\n",
       "\n",
       "    .dataframe tbody tr th {\n",
       "        vertical-align: top;\n",
       "    }\n",
       "\n",
       "    .dataframe thead th {\n",
       "        text-align: right;\n",
       "    }\n",
       "</style>\n",
       "<table border=\"1\" class=\"dataframe\">\n",
       "  <thead>\n",
       "    <tr style=\"text-align: right;\">\n",
       "      <th></th>\n",
       "    </tr>\n",
       "  </thead>\n",
       "  <tbody>\n",
       "  </tbody>\n",
       "</table>\n",
       "</div>"
      ],
      "text/plain": [
       "Empty DataFrame\n",
       "Columns: []\n",
       "Index: []"
      ]
     },
     "execution_count": 6,
     "metadata": {},
     "output_type": "execute_result"
    }
   ],
   "source": [
    "df"
   ]
  },
  {
   "cell_type": "code",
   "execution_count": 7,
   "id": "949c30db-6633-449c-8742-8fcd4912784f",
   "metadata": {},
   "outputs": [
    {
     "name": "stdout",
     "output_type": "stream",
     "text": [
      "      adult                     backdrop_path          genre_ids      id  \\\n",
      "0     False  /zfbjgQE1uSd9wiPTX4VzsLi0rGG.jpg           [18, 80]     278   \n",
      "1     False  /tmU7GeKVybMWFButWEGl2M4GeiP.jpg           [18, 80]     238   \n",
      "2     False  /b6w7gKLQLS2zw4JK0XmKgQ4gnzr.jpg           [18, 80]     240   \n",
      "3     False  /zb6fM1CX41D9rF9hdgclu0peUmy.jpg    [18, 36, 10752]     424   \n",
      "4     False  /qqHQsStV6exghCM7zbObuYBiYxw.jpg               [18]     389   \n",
      "...     ...                               ...                ...     ...   \n",
      "8555  False  /dIejmkCP46vN5a17u44phOGyAVR.jpg      [27, 35, 878]   68684   \n",
      "8556  False  /gOrSgSZqTOu6hVKGCcbo1jHIRat.jpg  [18, 27, 878, 53]    6171   \n",
      "8557  False  /gT4XVSEmGKOJ0EgSEUTfCeqgEtc.jpg      [878, 28, 53]     929   \n",
      "8558  False  /alsTIqT2ApBUUs8zEZEpmw1kDEa.jpg    [53, 10749, 18]  412105   \n",
      "8559  False  /wESuRMxELPAwo56qFRcoyI4p20F.jpg               [18]  254302   \n",
      "\n",
      "     original_language            original_title  \\\n",
      "0                   en  The Shawshank Redemption   \n",
      "1                   en             The Godfather   \n",
      "2                   en     The Godfather Part II   \n",
      "3                   en          Schindler's List   \n",
      "4                   en              12 Angry Men   \n",
      "...                ...                       ...   \n",
      "8555                en                 Detention   \n",
      "8556                en              Dreamcatcher   \n",
      "8557                en                  Godzilla   \n",
      "8558                en                You Get Me   \n",
      "8559                en                 High-Rise   \n",
      "\n",
      "                                               overview  popularity  \\\n",
      "0     Imprisoned in the 1940s for the double murder ...     161.739   \n",
      "1     Spanning the years 1945 to 1955, a chronicle o...     157.122   \n",
      "2     In the continuing saga of the Corleone crime f...     121.223   \n",
      "3     The true story of how businessman Oskar Schind...      93.276   \n",
      "4     The defense and the prosecution have rested an...      75.047   \n",
      "...                                                 ...         ...   \n",
      "8555  As a killer named Cinderhella stalks the stude...      15.200   \n",
      "8556  Four boyhood pals perform a heroic act and are...      19.455   \n",
      "8557  French nuclear tests irradiate an iguana into ...      48.521   \n",
      "8558  After arguing with his girlfriend, Ali, Tyler ...      18.971   \n",
      "8559  Life for the residents of a tower block begins...      20.782   \n",
      "\n",
      "                           poster_path release_date                     title  \\\n",
      "0     /9cqNxx0GxF0bflZmeSMuL5tnGzr.jpg   1994-09-23  The Shawshank Redemption   \n",
      "1     /3bhkrj58Vtu7enYsRolD1fZdja1.jpg   1972-03-14             The Godfather   \n",
      "2     /hek3koDUyRQk7FIhPXsa6mT2Zc3.jpg   1974-12-20     The Godfather Part II   \n",
      "3     /sF1U4EUQS8YHUYjNl3pMGNIQyr0.jpg   1993-12-15          Schindler's List   \n",
      "4     /ow3wq89wM8qd5X7hWKxiRfsFf9C.jpg   1957-04-10              12 Angry Men   \n",
      "...                                ...          ...                       ...   \n",
      "8555  /wLuMoe16Z27DH96B2vg4FQNiAjj.jpg   2012-04-06                 Detention   \n",
      "8556  /lLhvwLNU4pLgvaNREVFaQ4n3lCf.jpg   2003-03-21              Dreamcatcher   \n",
      "8557  /xJVl1I95StraYAwaNbBkVoWE2qA.jpg   1998-05-20                  Godzilla   \n",
      "8558  /5eV0mIQqSztD3McjO22EOFlQDj1.jpg   2017-06-19                You Get Me   \n",
      "8559  /h8d92L9T5Ty8olbkGGeqXIpzaj0.jpg   2015-11-22                 High-Rise   \n",
      "\n",
      "      video  vote_average  vote_count  \n",
      "0     False         8.705       26407  \n",
      "1     False         8.693       20031  \n",
      "2     False         8.576       12092  \n",
      "3     False         8.567       15497  \n",
      "4     False         8.544        8340  \n",
      "...     ...           ...         ...  \n",
      "8555  False         5.600         360  \n",
      "8556  False         5.618        1686  \n",
      "8557  False         5.618        3781  \n",
      "8558  False         5.617        1665  \n",
      "8559  False         5.600        1124  \n",
      "\n",
      "[8560 rows x 14 columns]\n"
     ]
    }
   ],
   "source": [
    "df_list = []\n",
    "\n",
    "for i in range(1, 429):\n",
    "    response = requests.get(f'https://api.themoviedb.org/3/movie/top_rated?api_key=a99779c704ac10830a6130e61a18ab2b&language=en-US&page={i}')\n",
    "    t_df = pd.DataFrame(response.json()['results'])\n",
    "    df_list.append(t_df)\n",
    "\n",
    "df = pd.concat(df_list, ignore_index=True)\n",
    "print(df)"
   ]
  },
  {
   "cell_type": "code",
   "execution_count": 9,
   "id": "e92a4586-f9ea-4278-8067-04b59c778996",
   "metadata": {},
   "outputs": [
    {
     "data": {
      "text/plain": [
       "(8560, 14)"
      ]
     },
     "execution_count": 9,
     "metadata": {},
     "output_type": "execute_result"
    }
   ],
   "source": [
    "df.shape"
   ]
  },
  {
   "cell_type": "code",
   "execution_count": 10,
   "id": "755d4f6a-6f2c-450c-a80c-79261767baed",
   "metadata": {},
   "outputs": [],
   "source": [
    "df.to_csv('movies.csv')"
   ]
  },
  {
   "cell_type": "code",
   "execution_count": null,
   "id": "73f3fdd7-036b-46ef-984c-a96c9471ba62",
   "metadata": {},
   "outputs": [],
   "source": []
  }
 ],
 "metadata": {
  "kernelspec": {
   "display_name": "Python 3 (ipykernel)",
   "language": "python",
   "name": "python3"
  },
  "language_info": {
   "codemirror_mode": {
    "name": "ipython",
    "version": 3
   },
   "file_extension": ".py",
   "mimetype": "text/x-python",
   "name": "python",
   "nbconvert_exporter": "python",
   "pygments_lexer": "ipython3",
   "version": "3.11.7"
  }
 },
 "nbformat": 4,
 "nbformat_minor": 5
}
